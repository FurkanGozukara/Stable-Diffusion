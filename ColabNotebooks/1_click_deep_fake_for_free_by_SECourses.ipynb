{
  "nbformat": 4,
  "nbformat_minor": 0,
  "metadata": {
    "colab": {
      "provenance": [],
      "gpuType": "T4",
      "include_colab_link": true
    },
    "kernelspec": {
      "name": "python3",
      "display_name": "Python 3"
    },
    "language_info": {
      "name": "python"
    },
    "accelerator": "GPU"
  },
  "cells": [
    {
      "cell_type": "markdown",
      "metadata": {
        "id": "view-in-github",
        "colab_type": "text"
      },
      "source": [
        "<a href=\"https://colab.research.google.com/github/FurkanGozukara/Stable-Diffusion/blob/main/ColabNotebooks/1_click_deep_fake_for_free_by_SECourses.ipynb\" target=\"_parent\"><img src=\"https://colab.research.google.com/assets/colab-badge.svg\" alt=\"Open In Colab\"/></a>"
      ]
    },
    {
      "cell_type": "markdown",
      "source": [
        "## Updated 27 August 2025 Fully Working again\n",
        "### Someone upgraded to Gold Tier and I fixed all issues\n",
        "## Most Advanced DeepFake FaceFusion for Windows, RunPod and Massed Compute : https://www.patreon.com/posts/103765029\n",
        "## Very Advanced VisoMaster for Windows and Massed Compute : https://www.patreon.com/posts/121570322\n",
        "## Deep Live Cam for Windows : https://www.patreon.com/posts/125826778"
      ],
      "metadata": {
        "id": "G9BdiCppV6AS"
      }
    },
    {
      "cell_type": "code",
      "execution_count": null,
      "metadata": {
        "id": "t1yPuhdySqCq"
      },
      "outputs": [],
      "source": [
        "!git clone https://github.com/FurkanGozukara/rop_fixed roop\n",
        "%cd roop\n",
        "!git clone https://github.com/FurkanGozukara/BasicSR\n",
        "!pip install -r requirements.txt\n",
        "!pip uninstall basicsr --yes"
      ]
    },
    {
      "cell_type": "markdown",
      "source": [
        "**You will see processing message at the end of below printed messages e.g. Processing:  43% 136/318 00:38<00:24, 7.47frame/s**\n",
        "\n",
        "**Make sure to upload root roop folder not inside the sub roop folder and don't forget to change image and video file names**\n",
        "\n",
        "**1 is best quality big video size, 100 worst quality low video size**"
      ],
      "metadata": {
        "id": "Jul-_i9xMmV2"
      }
    },
    {
      "cell_type": "code",
      "source": [
        "%cd \"/content/roop\"\n",
        "!python run.py -s \"face2.png\" -t \"test_video.mp4\" -o \"face_changed_video_v2.mp4\" --keep-frames --keep-fps --temp-frame-quality 1 --output-video-quality 1 --execution-provider cuda"
      ],
      "metadata": {
        "id": "Is6U2huqSzLE",
        "collapsed": true
      },
      "execution_count": null,
      "outputs": []
    },
    {
      "cell_type": "markdown",
      "source": [
        "**Below code will do also face restoration to improve quality significantly but it will take longer**"
      ],
      "metadata": {
        "id": "VJpNWHq1qdjT"
      }
    },
    {
      "cell_type": "code",
      "source": [
        "%cd \"/content/roop\"\n",
        "!python run.py -s \"face2.png\" -t \"video3.mp4\" -o \"face_restored_video3.mp4\" --keep-frames --keep-fps --temp-frame-quality 1 --output-video-quality 1 --execution-provider cuda --frame-processor face_swapper face_enhancer"
      ],
      "metadata": {
        "id": "_j18G_uPqc37"
      },
      "execution_count": null,
      "outputs": []
    },
    {
      "cell_type": "markdown",
      "source": [
        "### All options are displayed below\n",
        "Append any of them to the above commands before executing\n",
        "```\n",
        "python run.py [options]\n",
        "\n",
        "-h, --help                                                                 show this help message and exit\n",
        "-s SOURCE_PATH, --source SOURCE_PATH                                       select an source image\n",
        "-t TARGET_PATH, --target TARGET_PATH                                       select an target image or video\n",
        "-o OUTPUT_PATH, --output OUTPUT_PATH                                       select output file or directory\n",
        "--frame-processor FRAME_PROCESSOR [FRAME_PROCESSOR ...]                    frame processors (choices: face_swapper, face_enhancer, ...)\n",
        "--keep-fps                                                                 keep target fps\n",
        "--keep-frames                                                              keep temporary frames\n",
        "--skip-audio                                                               skip target audio\n",
        "--many-faces                                                               process every face\n",
        "--reference-face-position REFERENCE_FACE_POSITION                          position of the reference face\n",
        "--reference-frame-number REFERENCE_FRAME_NUMBER                            number of the reference frame\n",
        "--similar-face-distance SIMILAR_FACE_DISTANCE                              face distance used for recognition\n",
        "--temp-frame-format {jpg,png}                                              image format used for frame extraction\n",
        "--temp-frame-quality [0-100]                                               image quality used for frame extraction\n",
        "--output-video-encoder {libx264,libx265,libvpx-vp9,h264_nvenc,hevc_nvenc}  encoder used for the output video\n",
        "--output-video-quality [0-100]                                             quality used for the output video\n",
        "--max-memory MAX_MEMORY                                                    maximum amount of RAM in GB\n",
        "--execution-provider {cpu} [{cpu} ...]                                     available execution provider (choices: cpu, ...)\n",
        "--execution-threads EXECUTION_THREADS                                      number of execution threads\n",
        "-v, --version                                                              show program's version number and exit\n",
        "  ```"
      ],
      "metadata": {
        "id": "jr-63BTn8UEs"
      }
    },
    {
      "cell_type": "markdown",
      "source": [
        "### Download generated images folder"
      ],
      "metadata": {
        "id": "UdQ1VHdI8lCf"
      }
    },
    {
      "cell_type": "code",
      "source": [
        "import shutil\n",
        "import os\n",
        "from google.colab import files\n",
        "\n",
        "def zip_directory(directory_path, zip_path):\n",
        "    shutil.make_archive(zip_path, 'zip', directory_path)\n",
        "\n",
        "# Set the directory path you want to download\n",
        "directory_path = '/content/roop/video3'\n",
        "\n",
        "# Set the zip file name\n",
        "zip_filename = 'video3.zip'\n",
        "\n",
        "# Zip the directory\n",
        "zip_directory(directory_path, zip_filename)\n",
        "\n",
        "# Download the zip file\n",
        "files.download(zip_filename+'.zip')\n"
      ],
      "metadata": {
        "id": "oYjWveAmw10X"
      },
      "execution_count": null,
      "outputs": []
    },
    {
      "cell_type": "code",
      "source": [
        "#test case optional don't execute unless you are sure\n",
        "%cd \"/content/roop\"\n",
        "!wget https://huggingface.co/MonsterMMORPG/examples2/resolve/main/face2.png\n",
        "!wget https://huggingface.co/MonsterMMORPG/examples2/resolve/main/test_video.mp4"
      ],
      "metadata": {
        "id": "i7sh274mWjdb"
      },
      "execution_count": null,
      "outputs": []
    }
  ]
}